{
 "cells": [
  {
   "cell_type": "code",
   "execution_count": 1,
   "id": "63e31938",
   "metadata": {},
   "outputs": [],
   "source": [
    "import pandas as pd\n",
    "import numpy as np\n",
    "import seaborn as sns"
   ]
  },
  {
   "cell_type": "code",
   "execution_count": 2,
   "id": "895c3952",
   "metadata": {},
   "outputs": [],
   "source": [
    "df=pd.read_csv(\"swiggy.csv\")"
   ]
  },
  {
   "cell_type": "code",
   "execution_count": 3,
   "id": "c88e132b",
   "metadata": {},
   "outputs": [
    {
     "data": {
      "text/html": [
       "<div>\n",
       "<style scoped>\n",
       "    .dataframe tbody tr th:only-of-type {\n",
       "        vertical-align: middle;\n",
       "    }\n",
       "\n",
       "    .dataframe tbody tr th {\n",
       "        vertical-align: top;\n",
       "    }\n",
       "\n",
       "    .dataframe thead th {\n",
       "        text-align: right;\n",
       "    }\n",
       "</style>\n",
       "<table border=\"1\" class=\"dataframe\">\n",
       "  <thead>\n",
       "    <tr style=\"text-align: right;\">\n",
       "      <th></th>\n",
       "      <th>id</th>\n",
       "      <th>name</th>\n",
       "      <th>city</th>\n",
       "      <th>rating</th>\n",
       "      <th>rating_count</th>\n",
       "      <th>cost</th>\n",
       "      <th>cuisine</th>\n",
       "      <th>lic_no</th>\n",
       "      <th>link</th>\n",
       "      <th>address</th>\n",
       "      <th>menu</th>\n",
       "    </tr>\n",
       "  </thead>\n",
       "  <tbody>\n",
       "    <tr>\n",
       "      <th>0</th>\n",
       "      <td>567335</td>\n",
       "      <td>AB FOODS POINT</td>\n",
       "      <td>Abohar</td>\n",
       "      <td>--</td>\n",
       "      <td>Too Few Ratings</td>\n",
       "      <td>₹ 200</td>\n",
       "      <td>Beverages,Pizzas</td>\n",
       "      <td>22122652000138</td>\n",
       "      <td>https://www.swiggy.com/restaurants/ab-foods-po...</td>\n",
       "      <td>AB FOODS POINT, NEAR RISHI NARANG DENTAL CLINI...</td>\n",
       "      <td>Menu/567335.json</td>\n",
       "    </tr>\n",
       "    <tr>\n",
       "      <th>1</th>\n",
       "      <td>531342</td>\n",
       "      <td>Janta Sweet House</td>\n",
       "      <td>Abohar</td>\n",
       "      <td>4.4</td>\n",
       "      <td>50+ ratings</td>\n",
       "      <td>₹ 200</td>\n",
       "      <td>Sweets,Bakery</td>\n",
       "      <td>12117201000112</td>\n",
       "      <td>https://www.swiggy.com/restaurants/janta-sweet...</td>\n",
       "      <td>Janta Sweet House, Bazar No.9, Circullar Road,...</td>\n",
       "      <td>Menu/531342.json</td>\n",
       "    </tr>\n",
       "    <tr>\n",
       "      <th>2</th>\n",
       "      <td>158203</td>\n",
       "      <td>theka coffee desi</td>\n",
       "      <td>Abohar</td>\n",
       "      <td>3.8</td>\n",
       "      <td>100+ ratings</td>\n",
       "      <td>₹ 100</td>\n",
       "      <td>Beverages</td>\n",
       "      <td>22121652000190</td>\n",
       "      <td>https://www.swiggy.com/restaurants/theka-coffe...</td>\n",
       "      <td>theka coffee desi, sahtiya sadan road city</td>\n",
       "      <td>Menu/158203.json</td>\n",
       "    </tr>\n",
       "    <tr>\n",
       "      <th>3</th>\n",
       "      <td>187912</td>\n",
       "      <td>Singh Hut</td>\n",
       "      <td>Abohar</td>\n",
       "      <td>3.7</td>\n",
       "      <td>20+ ratings</td>\n",
       "      <td>₹ 250</td>\n",
       "      <td>Fast Food,Indian</td>\n",
       "      <td>22119652000167</td>\n",
       "      <td>https://www.swiggy.com/restaurants/singh-hut-n...</td>\n",
       "      <td>Singh Hut, CIRCULAR ROAD NEAR NEHRU PARK ABOHAR</td>\n",
       "      <td>Menu/187912.json</td>\n",
       "    </tr>\n",
       "    <tr>\n",
       "      <th>4</th>\n",
       "      <td>543530</td>\n",
       "      <td>GRILL MASTERS</td>\n",
       "      <td>Abohar</td>\n",
       "      <td>--</td>\n",
       "      <td>Too Few Ratings</td>\n",
       "      <td>₹ 250</td>\n",
       "      <td>Italian-American,Fast Food</td>\n",
       "      <td>12122201000053</td>\n",
       "      <td>https://www.swiggy.com/restaurants/grill-maste...</td>\n",
       "      <td>GRILL MASTERS, ADA Heights, Abohar - Hanumanga...</td>\n",
       "      <td>Menu/543530.json</td>\n",
       "    </tr>\n",
       "  </tbody>\n",
       "</table>\n",
       "</div>"
      ],
      "text/plain": [
       "       id               name    city rating     rating_count   cost  \\\n",
       "0  567335     AB FOODS POINT  Abohar     --  Too Few Ratings  ₹ 200   \n",
       "1  531342  Janta Sweet House  Abohar    4.4      50+ ratings  ₹ 200   \n",
       "2  158203  theka coffee desi  Abohar    3.8     100+ ratings  ₹ 100   \n",
       "3  187912          Singh Hut  Abohar    3.7      20+ ratings  ₹ 250   \n",
       "4  543530      GRILL MASTERS  Abohar     --  Too Few Ratings  ₹ 250   \n",
       "\n",
       "                      cuisine          lic_no  \\\n",
       "0            Beverages,Pizzas  22122652000138   \n",
       "1               Sweets,Bakery  12117201000112   \n",
       "2                   Beverages  22121652000190   \n",
       "3            Fast Food,Indian  22119652000167   \n",
       "4  Italian-American,Fast Food  12122201000053   \n",
       "\n",
       "                                                link  \\\n",
       "0  https://www.swiggy.com/restaurants/ab-foods-po...   \n",
       "1  https://www.swiggy.com/restaurants/janta-sweet...   \n",
       "2  https://www.swiggy.com/restaurants/theka-coffe...   \n",
       "3  https://www.swiggy.com/restaurants/singh-hut-n...   \n",
       "4  https://www.swiggy.com/restaurants/grill-maste...   \n",
       "\n",
       "                                             address              menu  \n",
       "0  AB FOODS POINT, NEAR RISHI NARANG DENTAL CLINI...  Menu/567335.json  \n",
       "1  Janta Sweet House, Bazar No.9, Circullar Road,...  Menu/531342.json  \n",
       "2         theka coffee desi, sahtiya sadan road city  Menu/158203.json  \n",
       "3    Singh Hut, CIRCULAR ROAD NEAR NEHRU PARK ABOHAR  Menu/187912.json  \n",
       "4  GRILL MASTERS, ADA Heights, Abohar - Hanumanga...  Menu/543530.json  "
      ]
     },
     "execution_count": 3,
     "metadata": {},
     "output_type": "execute_result"
    }
   ],
   "source": [
    "df.head()"
   ]
  },
  {
   "cell_type": "markdown",
   "id": "8d9bc0b7",
   "metadata": {},
   "source": [
    "## Data Dictionary\n",
    "#### id: Every restraunt has a unique Id\n",
    "#### name: Name of the Restraunt\n",
    "#### city: City it is located\n",
    "#### rating: the average rating of the particular restraunt\n",
    "#### rating_count: Total number of raiting \n",
    "#### cost: Average cost of eating\n",
    "#### cuisine: cusine it serves\n",
    "#### lic_no: the license number\n",
    "#### link: Restraunt link on swiggy website\n",
    "#### address: address of the restraunt\n"
   ]
  },
  {
   "cell_type": "code",
   "execution_count": 4,
   "id": "74803cd9",
   "metadata": {},
   "outputs": [
    {
     "name": "stdout",
     "output_type": "stream",
     "text": [
      "<class 'pandas.core.frame.DataFrame'>\n",
      "RangeIndex: 148541 entries, 0 to 148540\n",
      "Data columns (total 11 columns):\n",
      " #   Column        Non-Null Count   Dtype \n",
      "---  ------        --------------   ----- \n",
      " 0   id            148541 non-null  int64 \n",
      " 1   name          148455 non-null  object\n",
      " 2   city          148541 non-null  object\n",
      " 3   rating        148455 non-null  object\n",
      " 4   rating_count  148455 non-null  object\n",
      " 5   cost          148410 non-null  object\n",
      " 6   cuisine       148442 non-null  object\n",
      " 7   lic_no        148312 non-null  object\n",
      " 8   link          148541 non-null  object\n",
      " 9   address       148455 non-null  object\n",
      " 10  menu          148541 non-null  object\n",
      "dtypes: int64(1), object(10)\n",
      "memory usage: 12.5+ MB\n"
     ]
    }
   ],
   "source": [
    "df.info()"
   ]
  },
  {
   "cell_type": "markdown",
   "id": "3349e205",
   "metadata": {},
   "source": [
    "### I need to increase my business so there can be few questions I might ask to get to the main moto\n",
    "#### -- Most popular cuisine\n",
    "#### -- City with most profit\n",
    "#### End Goal is to increase the average order value "
   ]
  },
  {
   "cell_type": "markdown",
   "id": "e7948cf8",
   "metadata": {},
   "source": [
    "## Data Preprocessing"
   ]
  },
  {
   "cell_type": "markdown",
   "id": "816ccdd9",
   "metadata": {},
   "source": [
    "#### Handling Null values\n",
    "#### Unrecognized Values in Rating column\n",
    "#### Handling data types and change them if required"
   ]
  },
  {
   "cell_type": "code",
   "execution_count": 5,
   "id": "8bce2eef",
   "metadata": {},
   "outputs": [
    {
     "data": {
      "text/plain": [
       "id                0\n",
       "name             86\n",
       "city              0\n",
       "rating           86\n",
       "rating_count     86\n",
       "cost            131\n",
       "cuisine          99\n",
       "lic_no          229\n",
       "link              0\n",
       "address          86\n",
       "menu              0\n",
       "dtype: int64"
      ]
     },
     "execution_count": 5,
     "metadata": {},
     "output_type": "execute_result"
    }
   ],
   "source": [
    "df.isnull().sum()"
   ]
  },
  {
   "cell_type": "markdown",
   "id": "f15ad737",
   "metadata": {},
   "source": [
    "#### Maximum null values in a column are 299 which is very less when compared to total number of data points hence we can drop the null values"
   ]
  },
  {
   "cell_type": "code",
   "execution_count": 6,
   "id": "828bc45c",
   "metadata": {},
   "outputs": [],
   "source": [
    "df=df.dropna()"
   ]
  },
  {
   "cell_type": "code",
   "execution_count": 7,
   "id": "82b6325b",
   "metadata": {},
   "outputs": [
    {
     "data": {
      "text/plain": [
       "id              0\n",
       "name            0\n",
       "city            0\n",
       "rating          0\n",
       "rating_count    0\n",
       "cost            0\n",
       "cuisine         0\n",
       "lic_no          0\n",
       "link            0\n",
       "address         0\n",
       "menu            0\n",
       "dtype: int64"
      ]
     },
     "execution_count": 7,
     "metadata": {},
     "output_type": "execute_result"
    }
   ],
   "source": [
    "df.isnull().sum()"
   ]
  },
  {
   "cell_type": "code",
   "execution_count": 8,
   "id": "7bcccb16",
   "metadata": {},
   "outputs": [],
   "source": [
    "df['rating'].replace('--', np.nan, inplace=True)"
   ]
  },
  {
   "cell_type": "code",
   "execution_count": 9,
   "id": "9bb792bb",
   "metadata": {},
   "outputs": [
    {
     "data": {
      "text/plain": [
       "86912"
      ]
     },
     "execution_count": 9,
     "metadata": {},
     "output_type": "execute_result"
    }
   ],
   "source": [
    "df['rating'].isnull().sum()"
   ]
  },
  {
   "cell_type": "code",
   "execution_count": 10,
   "id": "e419b029",
   "metadata": {},
   "outputs": [
    {
     "data": {
      "text/plain": [
       "0        -999.0\n",
       "1           4.4\n",
       "2           3.8\n",
       "3           3.7\n",
       "4        -999.0\n",
       "          ...  \n",
       "148536   -999.0\n",
       "148537   -999.0\n",
       "148538   -999.0\n",
       "148539   -999.0\n",
       "148540   -999.0\n",
       "Name: rating, Length: 148255, dtype: float64"
      ]
     },
     "execution_count": 10,
     "metadata": {},
     "output_type": "execute_result"
    }
   ],
   "source": [
    "df['rating'].fillna(-999.0,inplace=True)\n",
    "df['rating'].astype(float)"
   ]
  },
  {
   "cell_type": "markdown",
   "id": "47dc3806",
   "metadata": {},
   "source": [
    "#### There can be many approach that we can follow, some are to replace the '--' with the mean or a median, here I prefer to change fill these with an outlier rather than the mean or the median as rating is a big factor in deciding the business. By just filling the values with mean or a median or any random value between 0-5 might cause our model to give inappropriate output."
   ]
  },
  {
   "cell_type": "markdown",
   "id": "9844df55",
   "metadata": {},
   "source": [
    "#### Handling Cost Column"
   ]
  },
  {
   "cell_type": "code",
   "execution_count": 11,
   "id": "cd3fa2e6",
   "metadata": {},
   "outputs": [
    {
     "data": {
      "text/plain": [
       "0         ₹ 200\n",
       "1         ₹ 200\n",
       "2         ₹ 100\n",
       "3         ₹ 250\n",
       "4         ₹ 250\n",
       "          ...  \n",
       "148536    ₹ 200\n",
       "148537    ₹ 300\n",
       "148538    ₹ 300\n",
       "148539    ₹ 250\n",
       "148540    ₹ 200\n",
       "Name: cost, Length: 148255, dtype: object"
      ]
     },
     "execution_count": 11,
     "metadata": {},
     "output_type": "execute_result"
    }
   ],
   "source": [
    "df['cost']"
   ]
  },
  {
   "cell_type": "code",
   "execution_count": 12,
   "id": "97b076c9",
   "metadata": {},
   "outputs": [],
   "source": [
    "df['cost']=df['cost'].str[1:].astype(float)"
   ]
  },
  {
   "cell_type": "code",
   "execution_count": 13,
   "id": "c2960630",
   "metadata": {},
   "outputs": [
    {
     "data": {
      "text/plain": [
       "0         200.0\n",
       "1         200.0\n",
       "2         100.0\n",
       "3         250.0\n",
       "4         250.0\n",
       "          ...  \n",
       "148536    200.0\n",
       "148537    300.0\n",
       "148538    300.0\n",
       "148539    250.0\n",
       "148540    200.0\n",
       "Name: cost, Length: 148255, dtype: float64"
      ]
     },
     "execution_count": 13,
     "metadata": {},
     "output_type": "execute_result"
    }
   ],
   "source": [
    "df['cost']"
   ]
  },
  {
   "cell_type": "markdown",
   "id": "7ffef2bd",
   "metadata": {},
   "source": [
    "### EDA"
   ]
  },
  {
   "cell_type": "code",
   "execution_count": 14,
   "id": "0b712437",
   "metadata": {},
   "outputs": [
    {
     "data": {
      "text/html": [
       "<div>\n",
       "<style scoped>\n",
       "    .dataframe tbody tr th:only-of-type {\n",
       "        vertical-align: middle;\n",
       "    }\n",
       "\n",
       "    .dataframe tbody tr th {\n",
       "        vertical-align: top;\n",
       "    }\n",
       "\n",
       "    .dataframe thead th {\n",
       "        text-align: right;\n",
       "    }\n",
       "</style>\n",
       "<table border=\"1\" class=\"dataframe\">\n",
       "  <thead>\n",
       "    <tr style=\"text-align: right;\">\n",
       "      <th></th>\n",
       "      <th>id</th>\n",
       "      <th>name</th>\n",
       "      <th>city</th>\n",
       "      <th>rating</th>\n",
       "      <th>rating_count</th>\n",
       "      <th>cost</th>\n",
       "      <th>cuisine</th>\n",
       "      <th>lic_no</th>\n",
       "      <th>link</th>\n",
       "      <th>address</th>\n",
       "      <th>menu</th>\n",
       "    </tr>\n",
       "  </thead>\n",
       "  <tbody>\n",
       "    <tr>\n",
       "      <th>0</th>\n",
       "      <td>567335</td>\n",
       "      <td>AB FOODS POINT</td>\n",
       "      <td>Abohar</td>\n",
       "      <td>-999.0</td>\n",
       "      <td>Too Few Ratings</td>\n",
       "      <td>200.0</td>\n",
       "      <td>Beverages,Pizzas</td>\n",
       "      <td>22122652000138</td>\n",
       "      <td>https://www.swiggy.com/restaurants/ab-foods-po...</td>\n",
       "      <td>AB FOODS POINT, NEAR RISHI NARANG DENTAL CLINI...</td>\n",
       "      <td>Menu/567335.json</td>\n",
       "    </tr>\n",
       "    <tr>\n",
       "      <th>1</th>\n",
       "      <td>531342</td>\n",
       "      <td>Janta Sweet House</td>\n",
       "      <td>Abohar</td>\n",
       "      <td>4.4</td>\n",
       "      <td>50+ ratings</td>\n",
       "      <td>200.0</td>\n",
       "      <td>Sweets,Bakery</td>\n",
       "      <td>12117201000112</td>\n",
       "      <td>https://www.swiggy.com/restaurants/janta-sweet...</td>\n",
       "      <td>Janta Sweet House, Bazar No.9, Circullar Road,...</td>\n",
       "      <td>Menu/531342.json</td>\n",
       "    </tr>\n",
       "    <tr>\n",
       "      <th>2</th>\n",
       "      <td>158203</td>\n",
       "      <td>theka coffee desi</td>\n",
       "      <td>Abohar</td>\n",
       "      <td>3.8</td>\n",
       "      <td>100+ ratings</td>\n",
       "      <td>100.0</td>\n",
       "      <td>Beverages</td>\n",
       "      <td>22121652000190</td>\n",
       "      <td>https://www.swiggy.com/restaurants/theka-coffe...</td>\n",
       "      <td>theka coffee desi, sahtiya sadan road city</td>\n",
       "      <td>Menu/158203.json</td>\n",
       "    </tr>\n",
       "    <tr>\n",
       "      <th>3</th>\n",
       "      <td>187912</td>\n",
       "      <td>Singh Hut</td>\n",
       "      <td>Abohar</td>\n",
       "      <td>3.7</td>\n",
       "      <td>20+ ratings</td>\n",
       "      <td>250.0</td>\n",
       "      <td>Fast Food,Indian</td>\n",
       "      <td>22119652000167</td>\n",
       "      <td>https://www.swiggy.com/restaurants/singh-hut-n...</td>\n",
       "      <td>Singh Hut, CIRCULAR ROAD NEAR NEHRU PARK ABOHAR</td>\n",
       "      <td>Menu/187912.json</td>\n",
       "    </tr>\n",
       "    <tr>\n",
       "      <th>4</th>\n",
       "      <td>543530</td>\n",
       "      <td>GRILL MASTERS</td>\n",
       "      <td>Abohar</td>\n",
       "      <td>-999.0</td>\n",
       "      <td>Too Few Ratings</td>\n",
       "      <td>250.0</td>\n",
       "      <td>Italian-American,Fast Food</td>\n",
       "      <td>12122201000053</td>\n",
       "      <td>https://www.swiggy.com/restaurants/grill-maste...</td>\n",
       "      <td>GRILL MASTERS, ADA Heights, Abohar - Hanumanga...</td>\n",
       "      <td>Menu/543530.json</td>\n",
       "    </tr>\n",
       "  </tbody>\n",
       "</table>\n",
       "</div>"
      ],
      "text/plain": [
       "       id               name    city rating     rating_count   cost  \\\n",
       "0  567335     AB FOODS POINT  Abohar -999.0  Too Few Ratings  200.0   \n",
       "1  531342  Janta Sweet House  Abohar    4.4      50+ ratings  200.0   \n",
       "2  158203  theka coffee desi  Abohar    3.8     100+ ratings  100.0   \n",
       "3  187912          Singh Hut  Abohar    3.7      20+ ratings  250.0   \n",
       "4  543530      GRILL MASTERS  Abohar -999.0  Too Few Ratings  250.0   \n",
       "\n",
       "                      cuisine          lic_no  \\\n",
       "0            Beverages,Pizzas  22122652000138   \n",
       "1               Sweets,Bakery  12117201000112   \n",
       "2                   Beverages  22121652000190   \n",
       "3            Fast Food,Indian  22119652000167   \n",
       "4  Italian-American,Fast Food  12122201000053   \n",
       "\n",
       "                                                link  \\\n",
       "0  https://www.swiggy.com/restaurants/ab-foods-po...   \n",
       "1  https://www.swiggy.com/restaurants/janta-sweet...   \n",
       "2  https://www.swiggy.com/restaurants/theka-coffe...   \n",
       "3  https://www.swiggy.com/restaurants/singh-hut-n...   \n",
       "4  https://www.swiggy.com/restaurants/grill-maste...   \n",
       "\n",
       "                                             address              menu  \n",
       "0  AB FOODS POINT, NEAR RISHI NARANG DENTAL CLINI...  Menu/567335.json  \n",
       "1  Janta Sweet House, Bazar No.9, Circullar Road,...  Menu/531342.json  \n",
       "2         theka coffee desi, sahtiya sadan road city  Menu/158203.json  \n",
       "3    Singh Hut, CIRCULAR ROAD NEAR NEHRU PARK ABOHAR  Menu/187912.json  \n",
       "4  GRILL MASTERS, ADA Heights, Abohar - Hanumanga...  Menu/543530.json  "
      ]
     },
     "execution_count": 14,
     "metadata": {},
     "output_type": "execute_result"
    }
   ],
   "source": [
    "df.head()"
   ]
  },
  {
   "cell_type": "code",
   "execution_count": 15,
   "id": "c9d84466",
   "metadata": {},
   "outputs": [
    {
     "data": {
      "text/plain": [
       "821"
      ]
     },
     "execution_count": 15,
     "metadata": {},
     "output_type": "execute_result"
    }
   ],
   "source": [
    "df['city'].nunique()"
   ]
  },
  {
   "cell_type": "code",
   "execution_count": 16,
   "id": "ea849482",
   "metadata": {},
   "outputs": [
    {
     "data": {
      "text/plain": [
       "112683"
      ]
     },
     "execution_count": 16,
     "metadata": {},
     "output_type": "execute_result"
    }
   ],
   "source": [
    "df['name'].nunique()"
   ]
  },
  {
   "cell_type": "code",
   "execution_count": 17,
   "id": "fa6bc9b5",
   "metadata": {},
   "outputs": [
    {
     "data": {
      "text/plain": [
       "148255"
      ]
     },
     "execution_count": 17,
     "metadata": {},
     "output_type": "execute_result"
    }
   ],
   "source": [
    "df.id.nunique()"
   ]
  },
  {
   "cell_type": "markdown",
   "id": "799146ea",
   "metadata": {},
   "source": [
    "#### 20 most popular restraunt chains"
   ]
  },
  {
   "cell_type": "code",
   "execution_count": 18,
   "id": "aae45fe5",
   "metadata": {
    "scrolled": true
   },
   "outputs": [
    {
     "data": {
      "text/plain": [
       "Domino's Pizza                                     442\n",
       "Pizza Hut                                          319\n",
       "KFC                                                309\n",
       "Kwality Walls Frozen Dessert and Ice Cream Shop    299\n",
       "Baskin Robbins                                     274\n",
       "Subway                                             227\n",
       "Faasos - Wraps & Rolls                             197\n",
       "LunchBox - Meals and Thalis                        195\n",
       "The Biryani Life                                   195\n",
       "The Good Bowl                                      194\n",
       "Oven Story Pizza                                   191\n",
       "Firangi Bake                                       191\n",
       "McDonald's                                         187\n",
       "The Belgian Waffle Co.                             186\n",
       "Behrouz Biryani                                    185\n",
       "Faasos' Signature Wraps & Rolls                    178\n",
       "NIC Natural Ice Creams                             174\n",
       "Grameen Kulfi                                      173\n",
       "Sweet Truth - Cake and Desserts                    171\n",
       "Cafe Coffee Day                                    160\n",
       "Name: name, dtype: int64"
      ]
     },
     "execution_count": 18,
     "metadata": {},
     "output_type": "execute_result"
    }
   ],
   "source": [
    "df.name.value_counts().head(20)"
   ]
  },
  {
   "cell_type": "markdown",
   "id": "d72d7489",
   "metadata": {},
   "source": [
    "#### By looking at the first 5 chains we can conclude Pizza, Burgers and Ice creams are mostly bought by the customers"
   ]
  },
  {
   "cell_type": "code",
   "execution_count": 19,
   "id": "1cbe623d",
   "metadata": {},
   "outputs": [
    {
     "data": {
      "text/plain": [
       "-999.0    86912\n",
       "4.0        6524\n",
       "4.1        6288\n",
       "4.2        5811\n",
       "3.8        5728\n",
       "3.9        5428\n",
       "4.3        5005\n",
       "3.7        4239\n",
       "4.4        3145\n",
       "3.5        2958\n",
       "3.6        2918\n",
       "3.4        1878\n",
       "3.3        1796\n",
       "4.5        1775\n",
       "4.6        1332\n",
       "3.2        1199\n",
       "3.0         858\n",
       "3.1         790\n",
       "4.7         648\n",
       "2.8         473\n",
       "2.9         471\n",
       "4.8         338\n",
       "2.7         325\n",
       "2.5         220\n",
       "5.0         209\n",
       "2.6         207\n",
       "4.9         172\n",
       "2.3         128\n",
       "2.4         118\n",
       "2.2          89\n",
       "2.0          72\n",
       "2.1          61\n",
       "1.9          46\n",
       "1.8          27\n",
       "1.5          18\n",
       "1.6          17\n",
       "1.7          13\n",
       "1.4          10\n",
       "1.2           4\n",
       "1.3           3\n",
       "1.1           1\n",
       "1.0           1\n",
       "Name: rating, dtype: int64"
      ]
     },
     "execution_count": 19,
     "metadata": {},
     "output_type": "execute_result"
    }
   ],
   "source": [
    "df['rating'].value_counts()"
   ]
  },
  {
   "cell_type": "code",
   "execution_count": 20,
   "id": "f0ea55fc",
   "metadata": {},
   "outputs": [],
   "source": [
    "# Calculating percentage of each rating\n",
    "rating_df=100  * df['rating'].value_counts()/len(df)"
   ]
  },
  {
   "cell_type": "code",
   "execution_count": 21,
   "id": "c0f4a953",
   "metadata": {},
   "outputs": [
    {
     "data": {
      "text/plain": [
       "-999.0    58.623318\n",
       "4.0        4.400526\n",
       "4.1        4.241341\n",
       "4.2        3.919598\n",
       "3.8        3.863613\n",
       "3.9        3.661259\n",
       "4.3        3.375940\n",
       "3.7        2.859263\n",
       "4.4        2.121345\n",
       "3.5        1.995211\n",
       "3.6        1.968230\n",
       "3.4        1.266736\n",
       "3.3        1.211426\n",
       "4.5        1.197261\n",
       "4.6        0.898452\n",
       "3.2        0.808742\n",
       "3.0        0.578733\n",
       "3.1        0.532866\n",
       "4.7        0.437085\n",
       "2.8        0.319045\n",
       "2.9        0.317696\n",
       "4.8        0.227986\n",
       "2.7        0.219217\n",
       "2.5        0.148393\n",
       "5.0        0.140973\n",
       "2.6        0.139624\n",
       "4.9        0.116016\n",
       "2.3        0.086338\n",
       "2.4        0.079593\n",
       "2.2        0.060032\n",
       "2.0        0.048565\n",
       "2.1        0.041145\n",
       "1.9        0.031028\n",
       "1.8        0.018212\n",
       "1.5        0.012141\n",
       "1.6        0.011467\n",
       "1.7        0.008769\n",
       "1.4        0.006745\n",
       "1.2        0.002698\n",
       "1.3        0.002024\n",
       "1.1        0.000675\n",
       "1.0        0.000675\n",
       "Name: rating, dtype: float64"
      ]
     },
     "execution_count": 21,
     "metadata": {},
     "output_type": "execute_result"
    }
   ],
   "source": [
    "rating_df"
   ]
  },
  {
   "cell_type": "code",
   "execution_count": 22,
   "id": "6bac9cac",
   "metadata": {},
   "outputs": [],
   "source": [
    "#converting it to a dataframe\n",
    "rating_df=rating_df.reset_index()"
   ]
  },
  {
   "cell_type": "code",
   "execution_count": 23,
   "id": "a24110d5",
   "metadata": {},
   "outputs": [],
   "source": [
    "rating_df.columns=['rating','percentage']"
   ]
  },
  {
   "cell_type": "code",
   "execution_count": 24,
   "id": "4a9d90a6",
   "metadata": {},
   "outputs": [],
   "source": [
    "rating_df=rating_df.tail(-1)"
   ]
  },
  {
   "cell_type": "code",
   "execution_count": 25,
   "id": "060de5fb",
   "metadata": {},
   "outputs": [
    {
     "data": {
      "image/png": "[encoded data removed]",
      "text/plain": [
       "<Figure size 640x480 with 1 Axes>"
      ]
     },
     "metadata": {},
     "output_type": "display_data"
    }
   ],
   "source": [
    "rating_df.plot(x='rating',y='percentage',alpha=0.5);"
   ]
  },
  {
   "cell_type": "code",
   "execution_count": 26,
   "id": "a5b161ca",
   "metadata": {},
   "outputs": [
    {
     "data": {
      "text/plain": [
       "city\n",
       "Bikaner                      1665\n",
       "Noida-1                      1424\n",
       "Indirapuram,Delhi            1279\n",
       "BTM,Bangalore                1159\n",
       "Rohini,Delhi                 1135\n",
       "Kothrud,Pune                 1086\n",
       "Indiranagar,Bangalore        1079\n",
       "Electronic City,Bangalore    1039\n",
       "Greater Kailash 2,Delhi      1037\n",
       "Vashi,Mumbai                 1021\n",
       "Kukatpally,Hyderabad         1008\n",
       "Viman Nagar,Pune             1000\n",
       "sohna road,Gurgaon            973\n",
       "Koramangala,Bangalore         953\n",
       "Laxmi Nagar,Delhi             930\n",
       "Gomti Nagar,Lucknow           915\n",
       "HSR,Bangalore                 898\n",
       "Malviya Nagar,Delhi           896\n",
       "Madhapur,Hyderabad            892\n",
       "Wakad,Pune                    868\n",
       "Name: id, dtype: int64"
      ]
     },
     "execution_count": 26,
     "metadata": {},
     "output_type": "execute_result"
    }
   ],
   "source": [
    "# City with most number of Restraunts\n",
    "df.groupby('city')['id'].nunique().sort_values(ascending=False).head(20)"
   ]
  },
  {
   "cell_type": "markdown",
   "id": "88caee09",
   "metadata": {},
   "source": [
    "### Which City has the best food"
   ]
  },
  {
   "cell_type": "code",
   "execution_count": 27,
   "id": "bc5bd261",
   "metadata": {
    "scrolled": true
   },
   "outputs": [
    {
     "data": {
      "text/html": [
       "<div>\n",
       "<style scoped>\n",
       "    .dataframe tbody tr th:only-of-type {\n",
       "        vertical-align: middle;\n",
       "    }\n",
       "\n",
       "    .dataframe tbody tr th {\n",
       "        vertical-align: top;\n",
       "    }\n",
       "\n",
       "    .dataframe thead th {\n",
       "        text-align: right;\n",
       "    }\n",
       "</style>\n",
       "<table border=\"1\" class=\"dataframe\">\n",
       "  <thead>\n",
       "    <tr style=\"text-align: right;\">\n",
       "      <th></th>\n",
       "      <th>id</th>\n",
       "      <th>name</th>\n",
       "      <th>city</th>\n",
       "      <th>rating</th>\n",
       "      <th>rating_count</th>\n",
       "      <th>cost</th>\n",
       "      <th>cuisine</th>\n",
       "      <th>lic_no</th>\n",
       "      <th>link</th>\n",
       "      <th>address</th>\n",
       "      <th>menu</th>\n",
       "    </tr>\n",
       "  </thead>\n",
       "  <tbody>\n",
       "    <tr>\n",
       "      <th>0</th>\n",
       "      <td>567335</td>\n",
       "      <td>AB FOODS POINT</td>\n",
       "      <td>Abohar</td>\n",
       "      <td>-999.0</td>\n",
       "      <td>Too Few Ratings</td>\n",
       "      <td>200.0</td>\n",
       "      <td>Beverages,Pizzas</td>\n",
       "      <td>22122652000138</td>\n",
       "      <td>https://www.swiggy.com/restaurants/ab-foods-po...</td>\n",
       "      <td>AB FOODS POINT, NEAR RISHI NARANG DENTAL CLINI...</td>\n",
       "      <td>Menu/567335.json</td>\n",
       "    </tr>\n",
       "    <tr>\n",
       "      <th>1</th>\n",
       "      <td>531342</td>\n",
       "      <td>Janta Sweet House</td>\n",
       "      <td>Abohar</td>\n",
       "      <td>4.4</td>\n",
       "      <td>50+ ratings</td>\n",
       "      <td>200.0</td>\n",
       "      <td>Sweets,Bakery</td>\n",
       "      <td>12117201000112</td>\n",
       "      <td>https://www.swiggy.com/restaurants/janta-sweet...</td>\n",
       "      <td>Janta Sweet House, Bazar No.9, Circullar Road,...</td>\n",
       "      <td>Menu/531342.json</td>\n",
       "    </tr>\n",
       "    <tr>\n",
       "      <th>2</th>\n",
       "      <td>158203</td>\n",
       "      <td>theka coffee desi</td>\n",
       "      <td>Abohar</td>\n",
       "      <td>3.8</td>\n",
       "      <td>100+ ratings</td>\n",
       "      <td>100.0</td>\n",
       "      <td>Beverages</td>\n",
       "      <td>22121652000190</td>\n",
       "      <td>https://www.swiggy.com/restaurants/theka-coffe...</td>\n",
       "      <td>theka coffee desi, sahtiya sadan road city</td>\n",
       "      <td>Menu/158203.json</td>\n",
       "    </tr>\n",
       "    <tr>\n",
       "      <th>3</th>\n",
       "      <td>187912</td>\n",
       "      <td>Singh Hut</td>\n",
       "      <td>Abohar</td>\n",
       "      <td>3.7</td>\n",
       "      <td>20+ ratings</td>\n",
       "      <td>250.0</td>\n",
       "      <td>Fast Food,Indian</td>\n",
       "      <td>22119652000167</td>\n",
       "      <td>https://www.swiggy.com/restaurants/singh-hut-n...</td>\n",
       "      <td>Singh Hut, CIRCULAR ROAD NEAR NEHRU PARK ABOHAR</td>\n",
       "      <td>Menu/187912.json</td>\n",
       "    </tr>\n",
       "    <tr>\n",
       "      <th>4</th>\n",
       "      <td>543530</td>\n",
       "      <td>GRILL MASTERS</td>\n",
       "      <td>Abohar</td>\n",
       "      <td>-999.0</td>\n",
       "      <td>Too Few Ratings</td>\n",
       "      <td>250.0</td>\n",
       "      <td>Italian-American,Fast Food</td>\n",
       "      <td>12122201000053</td>\n",
       "      <td>https://www.swiggy.com/restaurants/grill-maste...</td>\n",
       "      <td>GRILL MASTERS, ADA Heights, Abohar - Hanumanga...</td>\n",
       "      <td>Menu/543530.json</td>\n",
       "    </tr>\n",
       "  </tbody>\n",
       "</table>\n",
       "</div>"
      ],
      "text/plain": [
       "       id               name    city rating     rating_count   cost  \\\n",
       "0  567335     AB FOODS POINT  Abohar -999.0  Too Few Ratings  200.0   \n",
       "1  531342  Janta Sweet House  Abohar    4.4      50+ ratings  200.0   \n",
       "2  158203  theka coffee desi  Abohar    3.8     100+ ratings  100.0   \n",
       "3  187912          Singh Hut  Abohar    3.7      20+ ratings  250.0   \n",
       "4  543530      GRILL MASTERS  Abohar -999.0  Too Few Ratings  250.0   \n",
       "\n",
       "                      cuisine          lic_no  \\\n",
       "0            Beverages,Pizzas  22122652000138   \n",
       "1               Sweets,Bakery  12117201000112   \n",
       "2                   Beverages  22121652000190   \n",
       "3            Fast Food,Indian  22119652000167   \n",
       "4  Italian-American,Fast Food  12122201000053   \n",
       "\n",
       "                                                link  \\\n",
       "0  https://www.swiggy.com/restaurants/ab-foods-po...   \n",
       "1  https://www.swiggy.com/restaurants/janta-sweet...   \n",
       "2  https://www.swiggy.com/restaurants/theka-coffe...   \n",
       "3  https://www.swiggy.com/restaurants/singh-hut-n...   \n",
       "4  https://www.swiggy.com/restaurants/grill-maste...   \n",
       "\n",
       "                                             address              menu  \n",
       "0  AB FOODS POINT, NEAR RISHI NARANG DENTAL CLINI...  Menu/567335.json  \n",
       "1  Janta Sweet House, Bazar No.9, Circullar Road,...  Menu/531342.json  \n",
       "2         theka coffee desi, sahtiya sadan road city  Menu/158203.json  \n",
       "3    Singh Hut, CIRCULAR ROAD NEAR NEHRU PARK ABOHAR  Menu/187912.json  \n",
       "4  GRILL MASTERS, ADA Heights, Abohar - Hanumanga...  Menu/543530.json  "
      ]
     },
     "execution_count": 27,
     "metadata": {},
     "output_type": "execute_result"
    }
   ],
   "source": [
    "df.head()"
   ]
  },
  {
   "cell_type": "code",
   "execution_count": 28,
   "id": "406d5614",
   "metadata": {},
   "outputs": [
    {
     "data": {
      "text/plain": [
       "array(['Too Few Ratings', '50+ ratings', '100+ ratings', '20+ ratings',\n",
       "       '500+ ratings', '1K+ ratings', '5K+ ratings', '10K+ ratings'],\n",
       "      dtype=object)"
      ]
     },
     "execution_count": 28,
     "metadata": {},
     "output_type": "execute_result"
    }
   ],
   "source": [
    "df.rating_count.unique()"
   ]
  },
  {
   "cell_type": "code",
   "execution_count": 29,
   "id": "0ccfd5c2",
   "metadata": {},
   "outputs": [],
   "source": [
    "CITY=df[df['rating_count'].isin({'100+ ratings','500+ ratings','1K+ ratings','5K+ ratings','10K+ ratings'})]"
   ]
  },
  {
   "cell_type": "code",
   "execution_count": 30,
   "id": "5dc501a0",
   "metadata": {
    "scrolled": true
   },
   "outputs": [
    {
     "data": {
      "text/html": [
       "<div>\n",
       "<style scoped>\n",
       "    .dataframe tbody tr th:only-of-type {\n",
       "        vertical-align: middle;\n",
       "    }\n",
       "\n",
       "    .dataframe tbody tr th {\n",
       "        vertical-align: top;\n",
       "    }\n",
       "\n",
       "    .dataframe thead th {\n",
       "        text-align: right;\n",
       "    }\n",
       "</style>\n",
       "<table border=\"1\" class=\"dataframe\">\n",
       "  <thead>\n",
       "    <tr style=\"text-align: right;\">\n",
       "      <th></th>\n",
       "      <th>id</th>\n",
       "      <th>name</th>\n",
       "      <th>city</th>\n",
       "      <th>rating</th>\n",
       "      <th>rating_count</th>\n",
       "      <th>cost</th>\n",
       "      <th>cuisine</th>\n",
       "      <th>lic_no</th>\n",
       "      <th>link</th>\n",
       "      <th>address</th>\n",
       "      <th>menu</th>\n",
       "    </tr>\n",
       "  </thead>\n",
       "  <tbody>\n",
       "    <tr>\n",
       "      <th>2</th>\n",
       "      <td>158203</td>\n",
       "      <td>theka coffee desi</td>\n",
       "      <td>Abohar</td>\n",
       "      <td>3.8</td>\n",
       "      <td>100+ ratings</td>\n",
       "      <td>100.0</td>\n",
       "      <td>Beverages</td>\n",
       "      <td>22121652000190</td>\n",
       "      <td>https://www.swiggy.com/restaurants/theka-coffe...</td>\n",
       "      <td>theka coffee desi, sahtiya sadan road city</td>\n",
       "      <td>Menu/158203.json</td>\n",
       "    </tr>\n",
       "    <tr>\n",
       "      <th>6</th>\n",
       "      <td>156588</td>\n",
       "      <td>shere punjab veg</td>\n",
       "      <td>Abohar</td>\n",
       "      <td>4.0</td>\n",
       "      <td>100+ ratings</td>\n",
       "      <td>150.0</td>\n",
       "      <td>North Indian</td>\n",
       "      <td>22120652000021</td>\n",
       "      <td>https://www.swiggy.com/restaurants/shere-punja...</td>\n",
       "      <td>shere punjab veg, major surinder chowk near ve...</td>\n",
       "      <td>Menu/156588.json</td>\n",
       "    </tr>\n",
       "    <tr>\n",
       "      <th>38</th>\n",
       "      <td>351387</td>\n",
       "      <td>NIKKU VEG THALI</td>\n",
       "      <td>Abohar</td>\n",
       "      <td>4.1</td>\n",
       "      <td>100+ ratings</td>\n",
       "      <td>150.0</td>\n",
       "      <td>North Indian</td>\n",
       "      <td>22121652000183</td>\n",
       "      <td>https://www.swiggy.com/restaurants/nikku-veg-t...</td>\n",
       "      <td>NIKKU VEG THALI, College Road, Near Railway Li...</td>\n",
       "      <td>Menu/351387.json</td>\n",
       "    </tr>\n",
       "    <tr>\n",
       "      <th>63</th>\n",
       "      <td>165533</td>\n",
       "      <td>IFC Restaurant</td>\n",
       "      <td>Adilabad</td>\n",
       "      <td>3.5</td>\n",
       "      <td>100+ ratings</td>\n",
       "      <td>400.0</td>\n",
       "      <td>American</td>\n",
       "      <td>13619001000093</td>\n",
       "      <td>https://www.swiggy.com/restaurants/ifc-restaur...</td>\n",
       "      <td>IFC Restaurant, Jagadamba Towers, Gandhi Print...</td>\n",
       "      <td>Menu/165533.json</td>\n",
       "    </tr>\n",
       "    <tr>\n",
       "      <th>65</th>\n",
       "      <td>242943</td>\n",
       "      <td>Hot N Chill Restaurant</td>\n",
       "      <td>Adilabad</td>\n",
       "      <td>3.5</td>\n",
       "      <td>100+ ratings</td>\n",
       "      <td>150.0</td>\n",
       "      <td>European,Italian</td>\n",
       "      <td>13619001000192</td>\n",
       "      <td>https://www.swiggy.com/restaurants/hot-n-chill...</td>\n",
       "      <td>Hot N Chill Restaurant, H NO 4 -4 -703 BHUKTHA...</td>\n",
       "      <td>Menu/242943.json</td>\n",
       "    </tr>\n",
       "  </tbody>\n",
       "</table>\n",
       "</div>"
      ],
      "text/plain": [
       "        id                    name      city rating  rating_count   cost  \\\n",
       "2   158203       theka coffee desi    Abohar    3.8  100+ ratings  100.0   \n",
       "6   156588        shere punjab veg    Abohar    4.0  100+ ratings  150.0   \n",
       "38  351387         NIKKU VEG THALI    Abohar    4.1  100+ ratings  150.0   \n",
       "63  165533          IFC Restaurant  Adilabad    3.5  100+ ratings  400.0   \n",
       "65  242943  Hot N Chill Restaurant  Adilabad    3.5  100+ ratings  150.0   \n",
       "\n",
       "             cuisine          lic_no  \\\n",
       "2          Beverages  22121652000190   \n",
       "6       North Indian  22120652000021   \n",
       "38      North Indian  22121652000183   \n",
       "63          American  13619001000093   \n",
       "65  European,Italian  13619001000192   \n",
       "\n",
       "                                                 link  \\\n",
       "2   https://www.swiggy.com/restaurants/theka-coffe...   \n",
       "6   https://www.swiggy.com/restaurants/shere-punja...   \n",
       "38  https://www.swiggy.com/restaurants/nikku-veg-t...   \n",
       "63  https://www.swiggy.com/restaurants/ifc-restaur...   \n",
       "65  https://www.swiggy.com/restaurants/hot-n-chill...   \n",
       "\n",
       "                                              address              menu  \n",
       "2          theka coffee desi, sahtiya sadan road city  Menu/158203.json  \n",
       "6   shere punjab veg, major surinder chowk near ve...  Menu/156588.json  \n",
       "38  NIKKU VEG THALI, College Road, Near Railway Li...  Menu/351387.json  \n",
       "63  IFC Restaurant, Jagadamba Towers, Gandhi Print...  Menu/165533.json  \n",
       "65  Hot N Chill Restaurant, H NO 4 -4 -703 BHUKTHA...  Menu/242943.json  "
      ]
     },
     "execution_count": 30,
     "metadata": {},
     "output_type": "execute_result"
    }
   ],
   "source": [
    "CITY.head()"
   ]
  },
  {
   "cell_type": "code",
   "execution_count": 33,
   "id": "88f21480",
   "metadata": {},
   "outputs": [
    {
     "data": {
      "text/plain": [
       "id                int64\n",
       "name             object\n",
       "city             object\n",
       "rating           object\n",
       "rating_count     object\n",
       "cost            float64\n",
       "cuisine          object\n",
       "lic_no           object\n",
       "link             object\n",
       "address          object\n",
       "menu             object\n",
       "dtype: object"
      ]
     },
     "execution_count": 33,
     "metadata": {},
     "output_type": "execute_result"
    }
   ],
   "source": [
    "CITY.dtypes"
   ]
  },
  {
   "cell_type": "code",
   "execution_count": 34,
   "id": "32266e8b",
   "metadata": {},
   "outputs": [
    {
     "name": "stderr",
     "output_type": "stream",
     "text": [
      "C:\\Users\\HP\\AppData\\Local\\Temp\\ipykernel_4660\\4028877978.py:1: SettingWithCopyWarning: \n",
      "A value is trying to be set on a copy of a slice from a DataFrame.\n",
      "Try using .loc[row_indexer,col_indexer] = value instead\n",
      "\n",
      "See the caveats in the documentation: https://pandas.pydata.org/pandas-docs/stable/user_guide/indexing.html#returning-a-view-versus-a-copy\n",
      "  CITY['rating']=CITY['rating'].astype(float)\n"
     ]
    }
   ],
   "source": [
    "CITY['rating']=CITY['rating'].astype(float)"
   ]
  },
  {
   "cell_type": "code",
   "execution_count": 37,
   "id": "0b4764ff",
   "metadata": {},
   "outputs": [
    {
     "data": {
      "text/plain": [
       "Adyar,Chennai              20\n",
       "Central Kolkata,Kolkata    18\n",
       "Indiranagar,Bangalore      16\n",
       "South Kolkata,Kolkata      16\n",
       "Bandra West,Mumbai         13\n",
       "Name: city, dtype: int64"
      ]
     },
     "execution_count": 37,
     "metadata": {},
     "output_type": "execute_result"
    }
   ],
   "source": [
    "CITY[CITY['rating']>4.5].city.value_counts().head()"
   ]
  },
  {
   "cell_type": "markdown",
   "id": "d9a66e84",
   "metadata": {},
   "source": [
    "#### These are the 5 cities with restraunts having the best rating"
   ]
  },
  {
   "cell_type": "code",
   "execution_count": 38,
   "id": "d2e0f838",
   "metadata": {},
   "outputs": [
    {
     "data": {
      "text/plain": [
       "70762     300350.0\n",
       "21626       8000.0\n",
       "47552       6000.0\n",
       "47817       5023.0\n",
       "107779      5000.0\n",
       "            ...   \n",
       "94098          1.0\n",
       "109636         1.0\n",
       "121078         1.0\n",
       "148236         1.0\n",
       "43814          1.0\n",
       "Name: cost, Length: 148255, dtype: float64"
      ]
     },
     "execution_count": 38,
     "metadata": {},
     "output_type": "execute_result"
    }
   ],
   "source": [
    "df.cost.sort_values(ascending=False)"
   ]
  },
  {
   "cell_type": "code",
   "execution_count": 40,
   "id": "8cb9e177",
   "metadata": {},
   "outputs": [
    {
     "data": {
      "text/plain": [
       "<Axes: >"
      ]
     },
     "execution_count": 40,
     "metadata": {},
     "output_type": "execute_result"
    },
    {
     "data": {
      "image/png": "[encoded data removed]",
      "text/plain": [
       "<Figure size 640x480 with 1 Axes>"
      ]
     },
     "metadata": {},
     "output_type": "display_data"
    }
   ],
   "source": [
    "df.cost.plot()"
   ]
  },
  {
   "cell_type": "markdown",
   "id": "dedba0dd",
   "metadata": {},
   "source": [
    "#### This is due to an outlier"
   ]
  },
  {
   "cell_type": "code",
   "execution_count": 41,
   "id": "54a80d10",
   "metadata": {},
   "outputs": [
    {
     "data": {
      "text/plain": [
       "70642"
      ]
     },
     "execution_count": 41,
     "metadata": {},
     "output_type": "execute_result"
    }
   ],
   "source": [
    "np.argmax(df['cost'])"
   ]
  },
  {
   "cell_type": "code",
   "execution_count": 42,
   "id": "626e93bf",
   "metadata": {},
   "outputs": [
    {
     "data": {
      "text/plain": [
       "id                                                         477718\n",
       "name                                               KOHINOOR HOTEL\n",
       "city                                                   Hinganghat\n",
       "rating                                                     -999.0\n",
       "rating_count                                      Too Few Ratings\n",
       "cost                                                     300350.0\n",
       "cuisine                                      North Indian,Chinese\n",
       "lic_no                                             21521269001428\n",
       "link            https://www.swiggy.com/restaurants/kohinoor-ho...\n",
       "address         KOHINOOR HOTEL, LIBOURY CHOWK TAKA GROUND NR-B...\n",
       "menu                                             Menu/477718.json\n",
       "Name: 70762, dtype: object"
      ]
     },
     "execution_count": 42,
     "metadata": {},
     "output_type": "execute_result"
    }
   ],
   "source": [
    "df.iloc[70642]"
   ]
  },
  {
   "cell_type": "code",
   "execution_count": 43,
   "id": "089a343b",
   "metadata": {},
   "outputs": [],
   "source": [
    "df=df[df['id']!= 477718]"
   ]
  },
  {
   "cell_type": "code",
   "execution_count": 44,
   "id": "d2aa102f",
   "metadata": {},
   "outputs": [
    {
     "data": {
      "text/plain": [
       "<Axes: >"
      ]
     },
     "execution_count": 44,
     "metadata": {},
     "output_type": "execute_result"
    },
    {
     "data": {
      "image/png": "[encoded data removed]",
      "text/plain": [
       "<Figure size 640x480 with 1 Axes>"
      ]
     },
     "metadata": {},
     "output_type": "display_data"
    }
   ],
   "source": [
    "df.cost.plot()"
   ]
  },
  {
   "cell_type": "code",
   "execution_count": null,
   "id": "f189fc44",
   "metadata": {},
   "outputs": [],
   "source": []
  }
 ],
 "metadata": {
  "kernelspec": {
   "display_name": "Python 3 (ipykernel)",
   "language": "python",
   "name": "python3"
  },
  "language_info": {
   "codemirror_mode": {
    "name": "ipython",
    "version": 3
   },
   "file_extension": ".py",
   "mimetype": "text/x-python",
   "name": "python",
   "nbconvert_exporter": "python",
   "pygments_lexer": "ipython3",
   "version": "3.10.9"
  }
 },
 "nbformat": 4,
 "nbformat_minor": 5
}
